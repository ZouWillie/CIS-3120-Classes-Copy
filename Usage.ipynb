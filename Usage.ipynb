{
 "cells": [
  {
   "cell_type": "code",
   "execution_count": 1,
   "id": "6b88b4bc-a5c4-436d-9eed-8e95600f6d53",
   "metadata": {
    "editable": true,
    "slideshow": {
     "slide_type": ""
    },
    "tags": []
   },
   "outputs": [],
   "source": [
    "from Animal import Animal"
   ]
  },
  {
   "cell_type": "code",
   "execution_count": 3,
   "id": "738a52e3-faf1-4f92-8835-fed5b5e36dfe",
   "metadata": {
    "editable": true,
    "slideshow": {
     "slide_type": ""
    },
    "tags": []
   },
   "outputs": [
    {
     "name": "stdout",
     "output_type": "stream",
     "text": [
      "Hello, I am Joe\n",
      "Hi, I am a animal\n",
      "\n",
      "\n",
      "I am eating a Apple\n",
      "I am a Goat\n",
      "I am sleeping in a Barn\n",
      "I am fighting a  Human\n",
      "I am escaping from a Zoo\n"
     ]
    }
   ],
   "source": [
    "x = Animal(\"Joe\")\n",
    "x.talk()\n",
    "\n",
    "print(\"\\n\")\n",
    "\n",
    "x.eat(\"Apple\")\n",
    "x.species(\"Goat\")\n",
    "x.sleep(\"Barn\")\n",
    "x.fight(\"Human\")\n",
    "x.flee(\"Zoo\")\n"
   ]
  },
  {
   "cell_type": "code",
   "execution_count": null,
   "id": "8ee7b5fa-1802-4a0c-87ca-d716bb80e7a1",
   "metadata": {},
   "outputs": [],
   "source": []
  },
  {
   "cell_type": "code",
   "execution_count": null,
   "id": "77cefeca-3e21-4deb-a89e-f05fc100d70b",
   "metadata": {},
   "outputs": [],
   "source": []
  }
 ],
 "metadata": {
  "kernelspec": {
   "display_name": "Python 3 (ipykernel)",
   "language": "python",
   "name": "python3"
  },
  "language_info": {
   "codemirror_mode": {
    "name": "ipython",
    "version": 3
   },
   "file_extension": ".py",
   "mimetype": "text/x-python",
   "name": "python",
   "nbconvert_exporter": "python",
   "pygments_lexer": "ipython3",
   "version": "3.13.1"
  }
 },
 "nbformat": 4,
 "nbformat_minor": 5
}
